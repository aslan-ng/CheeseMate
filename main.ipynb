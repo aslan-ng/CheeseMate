{
  "nbformat": 4,
  "nbformat_minor": 0,
  "metadata": {
    "colab": {
      "provenance": [],
      "authorship_tag": "ABX9TyPxKgxM3gioVZ1559Y3ijVW",
      "include_colab_link": true
    },
    "kernelspec": {
      "name": "python3",
      "display_name": "Python 3"
    },
    "language_info": {
      "name": "python"
    }
  },
  "cells": [
    {
      "cell_type": "markdown",
      "metadata": {
        "id": "view-in-github",
        "colab_type": "text"
      },
      "source": [
        "<a href=\"https://colab.research.google.com/github/aslan-ng/CheeseMate/blob/main/main.ipynb\" target=\"_parent\"><img src=\"https://colab.research.google.com/assets/colab-badge.svg\" alt=\"Open In Colab\"/></a>"
      ]
    },
    {
      "cell_type": "code",
      "source": [
        "# Install dependencies\n",
        "\n",
        "!pip -q install --upgrade \"smolagents[transformers]\" gradio"
      ],
      "metadata": {
        "id": "AGAqCpYY68VU"
      },
      "execution_count": null,
      "outputs": []
    },
    {
      "cell_type": "code",
      "execution_count": null,
      "metadata": {
        "id": "ctdtcHbjy9A1"
      },
      "outputs": [],
      "source": [
        "# Make imports\n",
        "\n",
        "import re\n",
        "import gradio as gr\n",
        "from smolagents import TransformersModel"
      ]
    },
    {
      "cell_type": "code",
      "source": [
        "# Create model (Qwen)\n",
        "\n",
        "PARAMETERS_COUNT = 0.5  # Billions\n",
        "MODEL_ID = f\"Qwen/Qwen2.5-{PARAMETERS_COUNT}B-Instruct\"\n",
        "\n",
        "model = TransformersModel(\n",
        "    model_id=MODEL_ID,\n",
        "    device_map=\"auto\",\n",
        "    torch_dtype=\"auto\",\n",
        "    max_new_tokens=512,\n",
        "    temperature=0.2,\n",
        ")"
      ],
      "metadata": {
        "id": "EGGZjYas3MZa"
      },
      "execution_count": null,
      "outputs": []
    },
    {
      "cell_type": "code",
      "source": [
        "# Propmts and examples\n",
        "\n",
        "SYSTEM = \"\"\"\n",
        "You are CheeseMatch, a friendly assistant that ONLY recommends cheeses.\n",
        "- Stay strictly in the cheese domain; if asked anything else, politely redirect.\n",
        "- Be concise and conversational (1–3 sentences).\n",
        "- Give 1–3 cheese suggestions max, with a brief why (taste/texture/use/diet notes).\n",
        "- Prefer widely available cheeses unless the user requests niche options.\n",
        "- If constraints are unclear, ask ONE short clarification question.\n",
        "- Never output JSON, tables, or code.\n",
        "\"\"\"\n",
        "\n",
        "FEWSHOT = \"\"\"\n",
        "User: Where is the capital of France?\n",
        "Assistant: I can only help you select good cheese! Do you want me to suggest a cheese?\n",
        "\n",
        "User: I'm lactose intolerant and I don't like salty cheese. What do you recommend?\n",
        "Assistant: Consider naturally low-lactose, milder cheeses like Swiss-style options; they tend to be easier on lactose and not overly salty.\n",
        "\n",
        "User: Low fat, high protein cheeses\n",
        "Assistant: Cottage cheese is a solid choice—high in protein and available in low-fat varieties.\n",
        "\"\"\""
      ],
      "metadata": {
        "id": "eFePeb25-K5R"
      },
      "execution_count": null,
      "outputs": []
    },
    {
      "cell_type": "code",
      "source": [
        "# Main body of program that combines them all\n",
        "\n",
        "def _to_text(reply) -> str:\n",
        "    \"\"\"\n",
        "    Function to convert smolagents ChatMessage (or str) to plain text.\n",
        "    \"\"\"\n",
        "    if isinstance(reply, str):\n",
        "        return reply\n",
        "    # Try common ChatMessage shapes\n",
        "    try:\n",
        "        content = reply.content  # may be str or list of parts\n",
        "        if isinstance(content, str):\n",
        "            return content\n",
        "        if isinstance(content, list):\n",
        "            # look for a text-like part\n",
        "            for part in content:\n",
        "                if isinstance(part, dict):\n",
        "                    if part.get(\"type\") in {\"text\", \"output_text\"} and \"text\" in part:\n",
        "                        return part[\"text\"]\n",
        "                elif hasattr(part, \"text\"):\n",
        "                    return part.text\n",
        "    except Exception:\n",
        "        pass\n",
        "    # Fallback\n",
        "    return str(reply)\n",
        "\n",
        "\n",
        "class CheeseChat:\n",
        "    \"\"\"\n",
        "    CheeseMatch assistant.\n",
        "    \"\"\"\n",
        "    def __init__(self):\n",
        "        self.awaiting_confirm = False\n",
        "\n",
        "    def respond(self, user_text: str) -> str:\n",
        "        t = user_text.strip()\n",
        "        tl = t.lower()\n",
        "\n",
        "        # If we previously redirected and the user confirms\n",
        "        if self.awaiting_confirm and tl in {\"yes\", \"yes!\", \"ok\", \"okay\", \"sure\", \"yep\"}:\n",
        "            self.awaiting_confirm = False\n",
        "            prompt = FEWSHOT + \"\\n\\nUser: Please suggest a good cheese.\\nAssistant:\"\n",
        "            reply = model.generate(\n",
        "                messages=[\n",
        "                    {\"role\": \"system\", \"content\": [{\"type\": \"text\", \"text\": SYSTEM}]},\n",
        "                    {\"role\": \"user\",   \"content\": [{\"type\": \"text\", \"text\": prompt}]},\n",
        "                ],\n",
        "            )\n",
        "            return _to_text(reply).strip()\n",
        "\n",
        "        # Default: cheese-only assistant behavior (FEWSHOT carries the redirect example)\n",
        "        prompt = FEWSHOT + f\"\\n\\nUser: {t}\\nAssistant:\"\n",
        "        reply = model.generate(\n",
        "            messages=[\n",
        "                {\"role\": \"system\", \"content\": [{\"type\": \"text\", \"text\": SYSTEM}]},\n",
        "                {\"role\": \"user\",   \"content\": [{\"type\": \"text\", \"text\": prompt}]},\n",
        "            ],\n",
        "        )\n",
        "        text = _to_text(reply).strip()\n",
        "\n",
        "        # If the model chose to redirect (e.g., off-topic question),\n",
        "        # remember to expect a confirmation on the next turn.\n",
        "        if \"do you want me to suggest a cheese\" in text.lower():\n",
        "            self.awaiting_confirm = True\n",
        "\n",
        "        return text"
      ],
      "metadata": {
        "id": "--RnDBbN3WVx"
      },
      "execution_count": null,
      "outputs": []
    },
    {
      "cell_type": "code",
      "source": [
        "# Create the bot\n",
        "\n",
        "bot = CheeseChat()"
      ],
      "metadata": {
        "id": "CiFxbAaq-QOb"
      },
      "execution_count": null,
      "outputs": []
    },
    {
      "cell_type": "code",
      "source": [
        "# Some examples without GUI\n",
        "\n",
        "#message = \"I'm lactose intolerant and I don't like salty cheese. what do you recommend?\"\n",
        "#print(message)\n",
        "#print(bot.respond(message))\n",
        "\n",
        "#message = \"Where is the capital of France?\"\n",
        "#print(message)\n",
        "#print(bot.respond(message))"
      ],
      "metadata": {
        "id": "3yr52fUw-vLq"
      },
      "execution_count": null,
      "outputs": []
    },
    {
      "cell_type": "code",
      "source": [
        "# Create GUI\n",
        "\n",
        "with gr.Blocks(theme=\"soft\") as demo:\n",
        "    gr.Markdown(\"## 🧀 CheeseMatch\\nI only help you select good cheese. Ask away!\")\n",
        "\n",
        "    chat = gr.Chatbot(height=420, type=\"messages\")  # type='messages' keeps roles tidy\n",
        "    txt = gr.Textbox(placeholder=\"Type your message about cheese…\", autofocus=True)\n",
        "    clear = gr.Button(\"Clear\")\n",
        "\n",
        "    def user_submit(user_message, history):\n",
        "        # history is a list of dicts: [{\"role\":\"user\"/\"assistant\",\"content\":...}, ...]\n",
        "        history = history or []\n",
        "        history.append({\"role\": \"user\", \"content\": user_message})\n",
        "        bot_reply = bot.respond(user_message)\n",
        "        history.append({\"role\": \"assistant\", \"content\": bot_reply})\n",
        "        return gr.update(value=history), gr.update(value=\"\")\n",
        "\n",
        "    def clear_fn():\n",
        "        # Reset bot state between conversations if you want\n",
        "        global bot\n",
        "        bot = CheeseChat()\n",
        "        return [], \"\"\n",
        "\n",
        "    txt.submit(user_submit, [txt, chat], [chat, txt])\n",
        "    clear.click(clear_fn, [], [chat, txt])\n",
        "\n",
        "demo.launch(share=True)"
      ],
      "metadata": {
        "id": "WKLEmjLXBTrH"
      },
      "execution_count": null,
      "outputs": []
    }
  ]
}